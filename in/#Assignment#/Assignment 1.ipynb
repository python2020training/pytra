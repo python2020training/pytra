{
 "cells": [
  {
   "cell_type": "markdown",
   "metadata": {},
   "source": [
    "# Task 1"
   ]
  },
  {
   "cell_type": "markdown",
   "metadata": {},
   "source": [
    "1. \n",
    "Install Jupyter notebook and run the first program and share the screenshot of the output."
   ]
  },
  {
   "attachments": {
    "1.PNG": {
     "image/png": "[encoded data removed]"
    }
   },
   "cell_type": "markdown",
   "metadata": {},
   "source": [
    "![1.PNG](attachment:1.PNG)"
   ]
  },
  {
   "cell_type": "markdown",
   "metadata": {},
   "source": [
    "2. \n",
    "Write a program which will find all such numbers which are divisible by 7 but are not a multiple\n",
    "of 5, between 2000 and 3200 (both included). The numbers obtained should be printed in a\n",
    "comma-separated sequence on a single line."
   ]
  },
  {
   "cell_type": "code",
   "execution_count": 34,
   "metadata": {},
   "outputs": [
    {
     "name": "stdout",
     "output_type": "stream",
     "text": [
      "2002 ,2009 ,2016 ,2023 ,2037 ,2044 ,2051 ,2058 ,2072 ,2079 ,2086 ,2093 ,2107 ,2114 ,2121 ,2128 ,2142 ,2149 ,2156 ,2163 ,2177 ,2184 ,2191 ,2198 ,2212 ,2219 ,2226 ,2233 ,2247 ,2254 ,2261 ,2268 ,2282 ,2289 ,2296 ,2303 ,2317 ,2324 ,2331 ,2338 ,2352 ,2359 ,2366 ,2373 ,2387 ,2394 ,2401 ,2408 ,2422 ,2429 ,2436 ,2443 ,2457 ,2464 ,2471 ,2478 ,2492 ,2499 ,2506 ,2513 ,2527 ,2534 ,2541 ,2548 ,2562 ,2569 ,2576 ,2583 ,2597 ,2604 ,2611 ,2618 ,2632 ,2639 ,2646 ,2653 ,2667 ,2674 ,2681 ,2688 ,2702 ,2709 ,2716 ,2723 ,2737 ,2744 ,2751 ,2758 ,2772 ,2779 ,2786 ,2793 ,2807 ,2814 ,2821 ,2828 ,2842 ,2849 ,2856 ,2863 ,2877 ,2884 ,2891 ,2898 ,2912 ,2919 ,2926 ,2933 ,2947 ,2954 ,2961 ,2968 ,2982 ,2989 ,2996 ,3003 ,3017 ,3024 ,3031 ,3038 ,3052 ,3059 ,3066 ,3073 ,3087 ,3094 ,3101 ,3108 ,3122 ,3129 ,3136 ,3143 ,3157 ,3164 ,3171 ,3178 ,3192 ,3199 ,"
     ]
    }
   ],
   "source": [
    "for i in range(2000,3201):\n",
    "    if i%7==0 and i%5!=0:\n",
    "        print(i,\",\",end=\"\")"
   ]
  },
  {
   "cell_type": "markdown",
   "metadata": {},
   "source": [
    "3. \n",
    "Write a Python program to accept the user's first and last name and then getting them printed in\n",
    "the the reverse order with a space between first name and last name."
   ]
  },
  {
   "cell_type": "code",
   "execution_count": 35,
   "metadata": {},
   "outputs": [
    {
     "name": "stdout",
     "output_type": "stream",
     "text": [
      "Please enter First NameRudra\n",
      "Please enter Last NameDas\n",
      "arduR   saD\n"
     ]
    }
   ],
   "source": [
    "first_name=input(\"Please enter First Name\")\n",
    "last_name=input(\"Please enter Last Name\")\n",
    "print(first_name[::-1],\" \",last_name[::-1])"
   ]
  },
  {
   "cell_type": "markdown",
   "metadata": {},
   "source": [
    "4. \n",
    "Write a Python program to find the volume of a sphere with diameter 12 cm.\n",
    "Formula: V=4/3 * π * r 3"
   ]
  },
  {
   "cell_type": "code",
   "execution_count": 43,
   "metadata": {},
   "outputs": [
    {
     "data": {
      "text/plain": [
       "7238.229473870882"
      ]
     },
     "execution_count": 43,
     "metadata": {},
     "output_type": "execute_result"
    }
   ],
   "source": [
    "import math\n",
    "\n",
    "diameter=12\n",
    "volume=(4/3)*(math.pi)*(diameter**3)\n",
    "\n",
    "volume"
   ]
  },
  {
   "cell_type": "markdown",
   "metadata": {},
   "source": [
    "# Task 2"
   ]
  },
  {
   "cell_type": "markdown",
   "metadata": {},
   "source": [
    "1. \n",
    "Write a program which accepts a sequence of comma-separated numbers from console and\n",
    "generate a list."
   ]
  },
  {
   "cell_type": "code",
   "execution_count": 46,
   "metadata": {
    "scrolled": true
   },
   "outputs": [
    {
     "name": "stdout",
     "output_type": "stream",
     "text": [
      "Please input sequence of comma-separated numbers9,0,7,5,4\n",
      "['9', '0', '7', '5', '4']\n"
     ]
    }
   ],
   "source": [
    "user_input=input(\"Please input sequence of comma-separated numbers\")\n",
    "output=user_input.split(\",\")\n",
    "print(output)"
   ]
  },
  {
   "cell_type": "markdown",
   "metadata": {},
   "source": [
    "2. \n",
    "Create the below pattern using nested for loop in Python.\n",
    "*\n",
    "* *\n",
    "* * *\n",
    "* * * *\n",
    "* * * * *\n",
    "* * * *\n",
    "* * *\n",
    "* *\n",
    "*"
   ]
  },
  {
   "cell_type": "code",
   "execution_count": 22,
   "metadata": {},
   "outputs": [
    {
     "name": "stdout",
     "output_type": "stream",
     "text": [
      "*\r\n",
      "**\r\n",
      "***\r\n",
      "****\r\n",
      "*****\r\n",
      "****\r\n",
      "***\r\n",
      "**\r\n",
      "*\r\n"
     ]
    }
   ],
   "source": [
    "\"\"\"\n",
    "p=2\n",
    "for i in range (1,10):\n",
    "    if i <=5:\n",
    "        print(\"*\"*i)\n",
    "    else:\n",
    "        print(\"*\"*(i-p))\n",
    "        p+=2\n",
    "\"\"\"\n",
    "num = 1\n",
    "for i in range(0, 9):\n",
    "    if i<=4:\n",
    "        for j in range(0, i+1): \n",
    "            print(\"*\", end=\"\")\n",
    "        print(\"\\r\")\n",
    "    else:\n",
    "        for j in range(0, i-num): \n",
    "            print(\"*\", end=\"\")\n",
    "        num=num+2\n",
    "        print(\"\\r\")"
   ]
  },
  {
   "cell_type": "markdown",
   "metadata": {},
   "source": [
    "3. \n",
    "Write a Python program to reverse a word after accepting the input from the user.\n",
    "Sample Output:\n",
    "Input word: AcadGild\n",
    "Output: dilGdacA"
   ]
  },
  {
   "cell_type": "code",
   "execution_count": 20,
   "metadata": {},
   "outputs": [
    {
     "name": "stdout",
     "output_type": "stream",
     "text": [
      "Please input textAcadGild\n",
      "dliGdacA\n"
     ]
    }
   ],
   "source": [
    "user_input=input(\"Please input text\")\n",
    "print(user_input[::-1])"
   ]
  },
  {
   "cell_type": "markdown",
   "metadata": {},
   "source": [
    "4.\n",
    "Write a Python Program to print the given string in the format specified in the sample output.\n",
    "WE, THE PEOPLE OF INDIA, having solemnly resolved to constitute India into a\n",
    "SOVEREIGN, SOCIALIST, SECULAR, DEMOCRATIC REPUBLIC and to secure to all\n",
    "its citizens\n",
    "\n",
    "Sample Output:\n",
    "WE, THE PEOPLE OF INDIA,\n",
    "    having solemnly resolved to constitute India into a SOVEREIGN, !\n",
    "        SOCIALIST, SECULAR, DEMOCRATIC REPUBLIC\n",
    "        and to secure to all its citizens"
   ]
  },
  {
   "cell_type": "code",
   "execution_count": 39,
   "metadata": {},
   "outputs": [
    {
     "name": "stdout",
     "output_type": "stream",
     "text": [
      "WE, THE PEOPLE OF INDIA,\n",
      "\t having solemnly resolved to constitute India into a SOVEREIGN, !\n",
      "\t\t SOCIALIST, SECULAR, DEMOCRATIC REPUBLIC\n",
      "\t\t and to secure to all its citizens\n"
     ]
    }
   ],
   "source": [
    "print(\"WE, THE PEOPLE OF INDIA,\\n\\t having solemnly resolved to constitute India into a SOVEREIGN, !\\n\\t\\t SOCIALIST, SECULAR, DEMOCRATIC REPUBLIC\\n\\t\\t and to secure to all its citizens\")"
   ]
  },
  {
   "cell_type": "code",
   "execution_count": null,
   "metadata": {},
   "outputs": [],
   "source": []
  }
 ],
 "metadata": {
  "kernelspec": {
   "display_name": "Python 3",
   "language": "python",
   "name": "python3"
  },
  "language_info": {
   "codemirror_mode": {
    "name": "ipython",
    "version": 3
   },
   "file_extension": ".py",
   "mimetype": "text/x-python",
   "name": "python",
   "nbconvert_exporter": "python",
   "pygments_lexer": "ipython3",
   "version": "3.7.4"
  }
 },
 "nbformat": 4,
 "nbformat_minor": 2
}
